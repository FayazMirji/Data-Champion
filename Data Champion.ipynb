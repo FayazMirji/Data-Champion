{
 "cells": [
  {
   "cell_type": "code",
   "execution_count": 2,
   "id": "f576d603-2779-4697-9008-7ee74759bf4b",
   "metadata": {},
   "outputs": [],
   "source": [
    "import pandas as pd\n",
    "import numpy as np\n",
    "import matplotlib.pyplot as plt\n",
    "%matplotlib inline\n",
    "import seaborn as sns\n",
    "import warnings\n",
    "warnings.filterwarnings('ignore')"
   ]
  },
  {
   "cell_type": "code",
   "execution_count": 3,
   "id": "cf663ad7-a2c4-4a07-a9ca-9fb17fd2417f",
   "metadata": {},
   "outputs": [],
   "source": [
    "data={'Stage':['Facebook','Email Campaign','LinkedIn DMs'],'Leads':['3000','1000','500'],'Cost Incurred':['90000','10000','25000'],\n",
    "      'Conversions':['30','25','10'],'Convertion Rate':['1%','2.5%','2%'],'Cost Per Conversion':['3000','400','2500']}"
   ]
  },
  {
   "cell_type": "code",
   "execution_count": 4,
   "id": "dfdda966-1119-4698-965d-1c817b5deb63",
   "metadata": {},
   "outputs": [
    {
     "data": {
      "text/plain": [
       "{'Stage': ['Facebook', 'Email Campaign', 'LinkedIn DMs'],\n",
       " 'Leads': ['3000', '1000', '500'],\n",
       " 'Cost Incurred': ['90000', '10000', '25000'],\n",
       " 'Conversions': ['30', '25', '10'],\n",
       " 'Convertion Rate': ['1%', '2.5%', '2%'],\n",
       " 'Cost Per Conversion': ['3000', '400', '2500']}"
      ]
     },
     "execution_count": 4,
     "metadata": {},
     "output_type": "execute_result"
    }
   ],
   "source": [
    "data"
   ]
  },
  {
   "cell_type": "code",
   "execution_count": 5,
   "id": "6f856d94-200d-40a0-b85c-5024a2090cc8",
   "metadata": {},
   "outputs": [
    {
     "data": {
      "text/html": [
       "<div>\n",
       "<style scoped>\n",
       "    .dataframe tbody tr th:only-of-type {\n",
       "        vertical-align: middle;\n",
       "    }\n",
       "\n",
       "    .dataframe tbody tr th {\n",
       "        vertical-align: top;\n",
       "    }\n",
       "\n",
       "    .dataframe thead th {\n",
       "        text-align: right;\n",
       "    }\n",
       "</style>\n",
       "<table border=\"1\" class=\"dataframe\">\n",
       "  <thead>\n",
       "    <tr style=\"text-align: right;\">\n",
       "      <th></th>\n",
       "      <th>Stage</th>\n",
       "      <th>Leads</th>\n",
       "      <th>Cost Incurred</th>\n",
       "      <th>Conversions</th>\n",
       "      <th>Convertion Rate</th>\n",
       "      <th>Cost Per Conversion</th>\n",
       "    </tr>\n",
       "  </thead>\n",
       "  <tbody>\n",
       "    <tr>\n",
       "      <th>0</th>\n",
       "      <td>Facebook</td>\n",
       "      <td>3000</td>\n",
       "      <td>90000</td>\n",
       "      <td>30</td>\n",
       "      <td>1%</td>\n",
       "      <td>3000</td>\n",
       "    </tr>\n",
       "    <tr>\n",
       "      <th>1</th>\n",
       "      <td>Email Campaign</td>\n",
       "      <td>1000</td>\n",
       "      <td>10000</td>\n",
       "      <td>25</td>\n",
       "      <td>2.5%</td>\n",
       "      <td>400</td>\n",
       "    </tr>\n",
       "    <tr>\n",
       "      <th>2</th>\n",
       "      <td>LinkedIn DMs</td>\n",
       "      <td>500</td>\n",
       "      <td>25000</td>\n",
       "      <td>10</td>\n",
       "      <td>2%</td>\n",
       "      <td>2500</td>\n",
       "    </tr>\n",
       "  </tbody>\n",
       "</table>\n",
       "</div>"
      ],
      "text/plain": [
       "            Stage Leads Cost Incurred Conversions Convertion Rate  \\\n",
       "0        Facebook  3000         90000          30              1%   \n",
       "1  Email Campaign  1000         10000          25            2.5%   \n",
       "2    LinkedIn DMs   500         25000          10              2%   \n",
       "\n",
       "  Cost Per Conversion  \n",
       "0                3000  \n",
       "1                 400  \n",
       "2                2500  "
      ]
     },
     "execution_count": 5,
     "metadata": {},
     "output_type": "execute_result"
    }
   ],
   "source": [
    "df=pd.DataFrame(data)\n",
    "df"
   ]
  },
  {
   "cell_type": "code",
   "execution_count": 6,
   "id": "b8b7e271-84b5-4d89-badd-6efc1d5f9187",
   "metadata": {},
   "outputs": [
    {
     "name": "stdout",
     "output_type": "stream",
     "text": [
      "<class 'pandas.core.frame.DataFrame'>\n",
      "RangeIndex: 3 entries, 0 to 2\n",
      "Data columns (total 6 columns):\n",
      " #   Column               Non-Null Count  Dtype \n",
      "---  ------               --------------  ----- \n",
      " 0   Stage                3 non-null      object\n",
      " 1   Leads                3 non-null      object\n",
      " 2   Cost Incurred        3 non-null      object\n",
      " 3   Conversions          3 non-null      object\n",
      " 4   Convertion Rate      3 non-null      object\n",
      " 5   Cost Per Conversion  3 non-null      object\n",
      "dtypes: object(6)\n",
      "memory usage: 272.0+ bytes\n"
     ]
    }
   ],
   "source": [
    "df.info()"
   ]
  },
  {
   "cell_type": "code",
   "execution_count": 7,
   "id": "f466a944-fbb1-4aac-a2f5-32986a95c852",
   "metadata": {},
   "outputs": [],
   "source": [
    "df['Convertion Rate']=df['Convertion Rate'].str.replace('%','')"
   ]
  },
  {
   "cell_type": "code",
   "execution_count": 8,
   "id": "0302764d-902c-4b3a-9e45-5cd0d3d6d1b3",
   "metadata": {},
   "outputs": [],
   "source": [
    "df['Leads']=df.Leads.astype(int)\n",
    "df['Cost Incurred']=df['Cost Incurred'].astype(int)\n",
    "df['Conversions']=df.Conversions.astype(int)\n",
    "df['Convertion Rate']=df['Convertion Rate'].astype(float)\n",
    "df['Cost Per Conversion']=df['Cost Per Conversion'].astype(int)\n"
   ]
  },
  {
   "cell_type": "code",
   "execution_count": 9,
   "id": "a73c91fc-08f1-4623-a6f3-d8144332da93",
   "metadata": {},
   "outputs": [
    {
     "name": "stdout",
     "output_type": "stream",
     "text": [
      "<class 'pandas.core.frame.DataFrame'>\n",
      "RangeIndex: 3 entries, 0 to 2\n",
      "Data columns (total 6 columns):\n",
      " #   Column               Non-Null Count  Dtype  \n",
      "---  ------               --------------  -----  \n",
      " 0   Stage                3 non-null      object \n",
      " 1   Leads                3 non-null      int64  \n",
      " 2   Cost Incurred        3 non-null      int64  \n",
      " 3   Conversions          3 non-null      int64  \n",
      " 4   Convertion Rate      3 non-null      float64\n",
      " 5   Cost Per Conversion  3 non-null      int64  \n",
      "dtypes: float64(1), int64(4), object(1)\n",
      "memory usage: 272.0+ bytes\n"
     ]
    }
   ],
   "source": [
    "df.info()"
   ]
  },
  {
   "cell_type": "code",
   "execution_count": 10,
   "id": "701630f7-2f0f-4faf-bc70-06e2f27dbc92",
   "metadata": {},
   "outputs": [
    {
     "data": {
      "text/html": [
       "<div>\n",
       "<style scoped>\n",
       "    .dataframe tbody tr th:only-of-type {\n",
       "        vertical-align: middle;\n",
       "    }\n",
       "\n",
       "    .dataframe tbody tr th {\n",
       "        vertical-align: top;\n",
       "    }\n",
       "\n",
       "    .dataframe thead th {\n",
       "        text-align: right;\n",
       "    }\n",
       "</style>\n",
       "<table border=\"1\" class=\"dataframe\">\n",
       "  <thead>\n",
       "    <tr style=\"text-align: right;\">\n",
       "      <th></th>\n",
       "      <th>Stage</th>\n",
       "      <th>Leads</th>\n",
       "      <th>Cost Incurred</th>\n",
       "      <th>Conversions</th>\n",
       "      <th>Convertion Rate</th>\n",
       "      <th>Cost Per Conversion</th>\n",
       "    </tr>\n",
       "  </thead>\n",
       "  <tbody>\n",
       "    <tr>\n",
       "      <th>0</th>\n",
       "      <td>Facebook</td>\n",
       "      <td>3000</td>\n",
       "      <td>90000</td>\n",
       "      <td>30</td>\n",
       "      <td>1.0</td>\n",
       "      <td>3000</td>\n",
       "    </tr>\n",
       "    <tr>\n",
       "      <th>1</th>\n",
       "      <td>Email Campaign</td>\n",
       "      <td>1000</td>\n",
       "      <td>10000</td>\n",
       "      <td>25</td>\n",
       "      <td>2.5</td>\n",
       "      <td>400</td>\n",
       "    </tr>\n",
       "    <tr>\n",
       "      <th>2</th>\n",
       "      <td>LinkedIn DMs</td>\n",
       "      <td>500</td>\n",
       "      <td>25000</td>\n",
       "      <td>10</td>\n",
       "      <td>2.0</td>\n",
       "      <td>2500</td>\n",
       "    </tr>\n",
       "  </tbody>\n",
       "</table>\n",
       "</div>"
      ],
      "text/plain": [
       "            Stage  Leads  Cost Incurred  Conversions  Convertion Rate  \\\n",
       "0        Facebook   3000          90000           30              1.0   \n",
       "1  Email Campaign   1000          10000           25              2.5   \n",
       "2    LinkedIn DMs    500          25000           10              2.0   \n",
       "\n",
       "   Cost Per Conversion  \n",
       "0                 3000  \n",
       "1                  400  \n",
       "2                 2500  "
      ]
     },
     "execution_count": 10,
     "metadata": {},
     "output_type": "execute_result"
    }
   ],
   "source": [
    "df.head()"
   ]
  },
  {
   "cell_type": "code",
   "execution_count": 11,
   "id": "66534651-6bc6-4f23-b998-c660ff80d103",
   "metadata": {},
   "outputs": [
    {
     "data": {
      "text/html": [
       "<div>\n",
       "<style scoped>\n",
       "    .dataframe tbody tr th:only-of-type {\n",
       "        vertical-align: middle;\n",
       "    }\n",
       "\n",
       "    .dataframe tbody tr th {\n",
       "        vertical-align: top;\n",
       "    }\n",
       "\n",
       "    .dataframe thead th {\n",
       "        text-align: right;\n",
       "    }\n",
       "</style>\n",
       "<table border=\"1\" class=\"dataframe\">\n",
       "  <thead>\n",
       "    <tr style=\"text-align: right;\">\n",
       "      <th></th>\n",
       "      <th>Leads</th>\n",
       "      <th>Cost Incurred</th>\n",
       "      <th>Conversions</th>\n",
       "      <th>Convertion Rate</th>\n",
       "      <th>Cost Per Conversion</th>\n",
       "    </tr>\n",
       "  </thead>\n",
       "  <tbody>\n",
       "    <tr>\n",
       "      <th>count</th>\n",
       "      <td>3.000000</td>\n",
       "      <td>3.000000</td>\n",
       "      <td>3.000000</td>\n",
       "      <td>3.000000</td>\n",
       "      <td>3.000000</td>\n",
       "    </tr>\n",
       "    <tr>\n",
       "      <th>mean</th>\n",
       "      <td>1500.000000</td>\n",
       "      <td>41666.666667</td>\n",
       "      <td>21.666667</td>\n",
       "      <td>1.833333</td>\n",
       "      <td>1966.666667</td>\n",
       "    </tr>\n",
       "    <tr>\n",
       "      <th>std</th>\n",
       "      <td>1322.875656</td>\n",
       "      <td>42524.502741</td>\n",
       "      <td>10.408330</td>\n",
       "      <td>0.763763</td>\n",
       "      <td>1379.613472</td>\n",
       "    </tr>\n",
       "    <tr>\n",
       "      <th>min</th>\n",
       "      <td>500.000000</td>\n",
       "      <td>10000.000000</td>\n",
       "      <td>10.000000</td>\n",
       "      <td>1.000000</td>\n",
       "      <td>400.000000</td>\n",
       "    </tr>\n",
       "    <tr>\n",
       "      <th>25%</th>\n",
       "      <td>750.000000</td>\n",
       "      <td>17500.000000</td>\n",
       "      <td>17.500000</td>\n",
       "      <td>1.500000</td>\n",
       "      <td>1450.000000</td>\n",
       "    </tr>\n",
       "    <tr>\n",
       "      <th>50%</th>\n",
       "      <td>1000.000000</td>\n",
       "      <td>25000.000000</td>\n",
       "      <td>25.000000</td>\n",
       "      <td>2.000000</td>\n",
       "      <td>2500.000000</td>\n",
       "    </tr>\n",
       "    <tr>\n",
       "      <th>75%</th>\n",
       "      <td>2000.000000</td>\n",
       "      <td>57500.000000</td>\n",
       "      <td>27.500000</td>\n",
       "      <td>2.250000</td>\n",
       "      <td>2750.000000</td>\n",
       "    </tr>\n",
       "    <tr>\n",
       "      <th>max</th>\n",
       "      <td>3000.000000</td>\n",
       "      <td>90000.000000</td>\n",
       "      <td>30.000000</td>\n",
       "      <td>2.500000</td>\n",
       "      <td>3000.000000</td>\n",
       "    </tr>\n",
       "  </tbody>\n",
       "</table>\n",
       "</div>"
      ],
      "text/plain": [
       "             Leads  Cost Incurred  Conversions  Convertion Rate  \\\n",
       "count     3.000000       3.000000     3.000000         3.000000   \n",
       "mean   1500.000000   41666.666667    21.666667         1.833333   \n",
       "std    1322.875656   42524.502741    10.408330         0.763763   \n",
       "min     500.000000   10000.000000    10.000000         1.000000   \n",
       "25%     750.000000   17500.000000    17.500000         1.500000   \n",
       "50%    1000.000000   25000.000000    25.000000         2.000000   \n",
       "75%    2000.000000   57500.000000    27.500000         2.250000   \n",
       "max    3000.000000   90000.000000    30.000000         2.500000   \n",
       "\n",
       "       Cost Per Conversion  \n",
       "count             3.000000  \n",
       "mean           1966.666667  \n",
       "std            1379.613472  \n",
       "min             400.000000  \n",
       "25%            1450.000000  \n",
       "50%            2500.000000  \n",
       "75%            2750.000000  \n",
       "max            3000.000000  "
      ]
     },
     "execution_count": 11,
     "metadata": {},
     "output_type": "execute_result"
    }
   ],
   "source": [
    "df.describe()"
   ]
  },
  {
   "cell_type": "code",
   "execution_count": 12,
   "id": "553a0184-3465-43ab-9422-2b2fcf90ee0b",
   "metadata": {},
   "outputs": [
    {
     "data": {
      "text/html": [
       "<div>\n",
       "<style scoped>\n",
       "    .dataframe tbody tr th:only-of-type {\n",
       "        vertical-align: middle;\n",
       "    }\n",
       "\n",
       "    .dataframe tbody tr th {\n",
       "        vertical-align: top;\n",
       "    }\n",
       "\n",
       "    .dataframe thead th {\n",
       "        text-align: right;\n",
       "    }\n",
       "</style>\n",
       "<table border=\"1\" class=\"dataframe\">\n",
       "  <thead>\n",
       "    <tr style=\"text-align: right;\">\n",
       "      <th></th>\n",
       "      <th>Stage</th>\n",
       "    </tr>\n",
       "  </thead>\n",
       "  <tbody>\n",
       "    <tr>\n",
       "      <th>count</th>\n",
       "      <td>3</td>\n",
       "    </tr>\n",
       "    <tr>\n",
       "      <th>unique</th>\n",
       "      <td>3</td>\n",
       "    </tr>\n",
       "    <tr>\n",
       "      <th>top</th>\n",
       "      <td>Facebook</td>\n",
       "    </tr>\n",
       "    <tr>\n",
       "      <th>freq</th>\n",
       "      <td>1</td>\n",
       "    </tr>\n",
       "  </tbody>\n",
       "</table>\n",
       "</div>"
      ],
      "text/plain": [
       "           Stage\n",
       "count          3\n",
       "unique         3\n",
       "top     Facebook\n",
       "freq           1"
      ]
     },
     "execution_count": 12,
     "metadata": {},
     "output_type": "execute_result"
    }
   ],
   "source": [
    "df.describe(include='O')"
   ]
  },
  {
   "cell_type": "code",
   "execution_count": 13,
   "id": "24e235bd-cd11-421f-9df3-a68a750677da",
   "metadata": {},
   "outputs": [
    {
     "data": {
      "text/html": [
       "<div>\n",
       "<style scoped>\n",
       "    .dataframe tbody tr th:only-of-type {\n",
       "        vertical-align: middle;\n",
       "    }\n",
       "\n",
       "    .dataframe tbody tr th {\n",
       "        vertical-align: top;\n",
       "    }\n",
       "\n",
       "    .dataframe thead th {\n",
       "        text-align: right;\n",
       "    }\n",
       "</style>\n",
       "<table border=\"1\" class=\"dataframe\">\n",
       "  <thead>\n",
       "    <tr style=\"text-align: right;\">\n",
       "      <th></th>\n",
       "      <th>Stage</th>\n",
       "      <th>Leads</th>\n",
       "      <th>Cost Incurred</th>\n",
       "      <th>Conversions</th>\n",
       "      <th>Convertion Rate</th>\n",
       "      <th>Cost Per Conversion</th>\n",
       "    </tr>\n",
       "  </thead>\n",
       "  <tbody>\n",
       "    <tr>\n",
       "      <th>0</th>\n",
       "      <td>Facebook</td>\n",
       "      <td>3000</td>\n",
       "      <td>90000</td>\n",
       "      <td>30</td>\n",
       "      <td>1.0</td>\n",
       "      <td>3000</td>\n",
       "    </tr>\n",
       "    <tr>\n",
       "      <th>1</th>\n",
       "      <td>Email Campaign</td>\n",
       "      <td>1000</td>\n",
       "      <td>10000</td>\n",
       "      <td>25</td>\n",
       "      <td>2.5</td>\n",
       "      <td>400</td>\n",
       "    </tr>\n",
       "    <tr>\n",
       "      <th>2</th>\n",
       "      <td>LinkedIn DMs</td>\n",
       "      <td>500</td>\n",
       "      <td>25000</td>\n",
       "      <td>10</td>\n",
       "      <td>2.0</td>\n",
       "      <td>2500</td>\n",
       "    </tr>\n",
       "  </tbody>\n",
       "</table>\n",
       "</div>"
      ],
      "text/plain": [
       "            Stage  Leads  Cost Incurred  Conversions  Convertion Rate  \\\n",
       "0        Facebook   3000          90000           30              1.0   \n",
       "1  Email Campaign   1000          10000           25              2.5   \n",
       "2    LinkedIn DMs    500          25000           10              2.0   \n",
       "\n",
       "   Cost Per Conversion  \n",
       "0                 3000  \n",
       "1                  400  \n",
       "2                 2500  "
      ]
     },
     "execution_count": 13,
     "metadata": {},
     "output_type": "execute_result"
    }
   ],
   "source": [
    "df"
   ]
  },
  {
   "cell_type": "markdown",
   "id": "967fd557-df44-47e9-a33e-dc8f18c0a4db",
   "metadata": {},
   "source": [
    "- **As we can see from the above data that The leads occured from the Facebook are higher but has lower conversion rate that what it make it Costly and low effective.**\n",
    "- **Email Campaigns are doing well as it has higher conversion rate attracting more customers and lower cost per conversion that what it makes this stage has more poritable among all.**\n",
    "- **And the second well doing stage is Linkedin .**\n",
    "\n",
    "* ### *Lead*- Facebook has the Lead.\n",
    "* ### *MQL*- Facebook is good in marketing as it has 3000 leads.\n",
    "* ### *SQL*- Email Campaign is best Sale qualified Lead as it has Highest Conversion rate.\n",
    "\n",
    "- **As we can see Facebook has the highest leads so we can try to improve by providing the content as per their job roles, location and interest what can attract them most.**\n",
    "- **And provide the best dashboard that is user friendly.**\n",
    "\n",
    "## Thus we can say Email Campaign are doing best as per the customer are getting into it and has good conversion rate."
   ]
  },
  {
   "cell_type": "markdown",
   "id": "0be4cb06-dbbc-4adb-a4a6-72a77746377d",
   "metadata": {},
   "source": [
    "# Core Data Fields Per Contact\n",
    "**Full Name**\n",
    "\n",
    "**Email ID**\n",
    "\n",
    "**Phone Number**\n",
    "\n",
    "**Company Name**\n",
    "\n",
    "**Industry**\n",
    "\n",
    "**Lead Source (Facebook, Email, LinkedIn)**\n",
    "\n",
    "**Funnel Stage (Lead, MQL, SQL, etc.)**\n",
    "\n",
    "**Last Engagement Date**\n",
    "\n",
    "**Engagement Score (0–100)**\n",
    "\n",
    "**Disqualification Reason (if dropped)**\n",
    "\n",
    "**Deal Size (if known)**\n",
    "\n",
    "**Account Owner**\n",
    "\n",
    "\n",
    "# Automations\n",
    "**Auto-tag contacts by lead source**\n",
    "\n",
    "**Auto-update funnel stage based on actions (e.g., demo booked → SQL)**\n",
    "\n",
    "**Notify owner if no response in 5 days**\n",
    "\n",
    "**Auto-create follow-up tasks for sales reps**\n",
    "\n",
    "**If inactive > 10 days → move to dormant & trigger re-nurture sequence**\n",
    "\n",
    "\n",
    "\n"
   ]
  },
  {
   "cell_type": "markdown",
   "id": "31cd23c4-2456-4473-ac87-5742ad7afd87",
   "metadata": {},
   "source": [
    "# Intent Based Nurturing Task\n",
    "\n",
    "| **Lead Intent** | **Criteria**                         | **Frequency & Channels**                      | **Content Types**                                               | **Success Metric**                   |\n",
    "| --------------- | ------------------------------------ | --------------------------------------------- | --------------------------------------------------------------- | ------------------------------------ |\n",
    "| **High Intent** | Booked demo, didn’t convert          | 3 messages in 10 days via Email + LinkedIn DM | Case study, offer (e.g. free setup), “missed you” founder note  | Demo rebooked or direct reply        |\n",
    "| **Mid Intent**  | Downloaded resource / joined webinar | 1 email/week + 1 WhatsApp ping in 2 weeks     | Industry trends, testimonial video, checklist or ROI calculator | Email click-through, form submission |\n",
    "| **Low Intent**  | Subscribed to newsletter             | 2x/month email, retarget via FB/LinkedIn ads  | Blog post, free tool, “Top 5 Insights” monthly round-up         | Ad engagement or reactivation        |\n"
   ]
  },
  {
   "cell_type": "markdown",
   "id": "5fde8e0d-d531-4df3-89b9-73eaa84852ab",
   "metadata": {},
   "source": [
    "# CAC:LTV Tracking Dashboard Proposal\n",
    "## Metrics to Include \n",
    "**CAC by source**\n",
    "\n",
    "**Average LTV per customer**\n",
    "\n",
    "**Funnel conversion at each stage (Lead → MQL → SQL → Customer)**\n",
    "\n",
    "**CAC:LTV ratio by source**\n",
    "\n",
    "**Retention % per cohort**"
   ]
  },
  {
   "cell_type": "markdown",
   "id": "17ef31f6-c7a0-494d-848e-0f05f2fd3f6b",
   "metadata": {},
   "source": [
    "# My Funnel Design Philosophy\n",
    "**Funnels are not linear. They are decision support systems that make human unpredictability measurable and actionable. My philosophy is to create filters, not pipelines — because qualifying and disqualifying early saves time, money, and team morale.**\n",
    "\n",
    "**I believe in clear definitions (Lead vs. MQL), disciplined ownership (Marketing → Sales → CS), and automations that protect against drop-offs. My CRM is not a contact list — it’s an operating system that connects actions to outcomes.**\n",
    "\n",
    "**While data shows performance, stories give it meaning. Every spike in CAC or leak in the funnel tells a story. Data storytelling bridges dashboards and boardrooms. As a growth partner, I don’t just present metrics — I propose actions.**\n",
    "\n",
    "**At the core, I treat every funnel design like an experiment — meant to be iterated, tested, and scaled.**"
   ]
  },
  {
   "cell_type": "code",
   "execution_count": null,
   "id": "d95173b7-0084-49c7-9952-31251e5bf1a3",
   "metadata": {},
   "outputs": [],
   "source": []
  }
 ],
 "metadata": {
  "kernelspec": {
   "display_name": "Python 3 (ipykernel)",
   "language": "python",
   "name": "python3"
  },
  "language_info": {
   "codemirror_mode": {
    "name": "ipython",
    "version": 3
   },
   "file_extension": ".py",
   "mimetype": "text/x-python",
   "name": "python",
   "nbconvert_exporter": "python",
   "pygments_lexer": "ipython3",
   "version": "3.9.21"
  }
 },
 "nbformat": 4,
 "nbformat_minor": 5
}
